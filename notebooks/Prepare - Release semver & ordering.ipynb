{
 "cells": [
  {
   "cell_type": "code",
   "execution_count": 1,
   "metadata": {},
   "outputs": [],
   "source": [
    "import pandas\n",
    "import sys\n",
    "import tqdm\n",
    "\n",
    "sys.path.append('..')\n",
    "from helpers import RE_SEMVER, semver"
   ]
  },
  {
   "cell_type": "code",
   "execution_count": 2,
   "metadata": {},
   "outputs": [],
   "source": [
    "df_releases = (\n",
    "    pandas.read_csv('../data-raw/libio-versions.csv.gz')\n",
    "    .assign(Date=lambda d: pandas.to_datetime(d['Date'], infer_datetime_format=True))\n",
    "    .rename(columns={'Project': 'Package', 'Date': 'ReleaseDate'})\n",
    ")    "
   ]
  },
  {
   "cell_type": "code",
   "execution_count": 3,
   "metadata": {},
   "outputs": [],
   "source": [
    "# Identify major, minor, patch and misc components\n",
    "df_releases[['VMajor', 'VMinor', 'VPatch', 'VMisc']] = (\n",
    "    df_releases['Release']\n",
    "    .str.extract(RE_SEMVER, expand=True)\n",
    ")"
   ]
  },
  {
   "cell_type": "code",
   "execution_count": 4,
   "metadata": {},
   "outputs": [],
   "source": [
    "# Convert them to float (not int because some packages have 9999999999999999999 as version oO)\n",
    "for label in ['VMajor', 'VMinor', 'VPatch']:\n",
    "    df_releases[label] = df_releases[label].astype(float)"
   ]
  },
  {
   "cell_type": "code",
   "execution_count": 13,
   "metadata": {},
   "outputs": [],
   "source": [
    "df_releases = (\n",
    "    df_releases\n",
    "    [lambda d: ~(d['VMisc'] != '')]\n",
    "    .drop_duplicates(['Package', 'VMajor', 'VMinor', 'VPatch'])\n",
    ")"
   ]
  },
  {
   "cell_type": "code",
   "execution_count": 14,
   "metadata": {},
   "outputs": [
    {
     "data": {
      "application/vnd.jupyter.widget-view+json": {
       "model_id": "b8148bf6d6fd4db5b1065c951c5da265",
       "version_major": 2,
       "version_minor": 0
      },
      "text/html": [
       "<p>Failed to display Jupyter Widget of type <code>HBox</code>.</p>\n",
       "<p>\n",
       "  If you're reading this message in the Jupyter Notebook or JupyterLab Notebook, it may mean\n",
       "  that the widgets JavaScript is still loading. If this message persists, it\n",
       "  likely means that the widgets JavaScript library is either not installed or\n",
       "  not enabled. See the <a href=\"https://ipywidgets.readthedocs.io/en/stable/user_install.html\">Jupyter\n",
       "  Widgets Documentation</a> for setup instructions.\n",
       "</p>\n",
       "<p>\n",
       "  If you're reading this message in another frontend (for example, a static\n",
       "  rendering on GitHub or <a href=\"https://nbviewer.jupyter.org/\">NBViewer</a>),\n",
       "  it may mean that your frontend doesn't currently support widgets.\n",
       "</p>\n"
      ],
      "text/plain": [
       "HBox(children=(IntProgress(value=0, max=598505), HTML(value='')))"
      ]
     },
     "metadata": {},
     "output_type": "display_data"
    },
    {
     "name": "stdout",
     "output_type": "stream",
     "text": [
      "\n"
     ]
    }
   ],
   "source": [
    "# We're not using groupby(..).apply() because \n",
    "# using a loop is more than 2 times faster in our case. \n",
    "\n",
    "data = []\n",
    "for name, group in tqdm.tqdm_notebook(df_releases.groupby('Package', sort=False)):\n",
    "    group = (\n",
    "        group\n",
    "        .sort_values('ReleaseDate')\n",
    "        .assign(\n",
    "            RankByDate=lambda d: d.assign(N=1).N.cumsum(),\n",
    "            NextReleaseDateByDate=lambda d: d['ReleaseDate'].shift(-1)\n",
    "        )\n",
    "                \n",
    "        .sort_values(['VMajor', 'VMinor', 'VPatch', 'ReleaseDate'])\n",
    "        .assign(\n",
    "            RankByVersion=lambda d: d.assign(N=1).N.cumsum(),\n",
    "            Initial=lambda d: d['VMajor'].shift(1).isnull(),\n",
    "            Major=lambda d: (d['VMajor'] - d['VMajor'].shift(1)).clip(0, 1).astype(bool),\n",
    "            Minor=lambda d: (d['VMinor'] - d['VMinor'].shift(1)).clip(0, 1).astype(bool),\n",
    "            Patch=lambda d: (d['VPatch'] - d['VPatch'].shift(1)).clip(0, 1).astype(bool),\n",
    "            Misc=True\n",
    "        )\n",
    "        .assign(ReleaseType=lambda d: d[['Initial', 'Major', 'Minor', 'Patch', 'Misc']].idxmax(axis=1))\n",
    "        \n",
    "        .drop(columns=[\n",
    "            'Initial', 'Major', 'Minor', 'Patch', 'Misc',\n",
    "            'VMajor', 'VMinor', 'VPatch', 'VMisc',\n",
    "        ])        \n",
    "    )\n",
    "\n",
    "    data.append(group)"
   ]
  },
  {
   "cell_type": "code",
   "execution_count": 15,
   "metadata": {},
   "outputs": [],
   "source": [
    "df_semver = pandas.concat(data)"
   ]
  },
  {
   "cell_type": "code",
   "execution_count": 16,
   "metadata": {},
   "outputs": [],
   "source": [
    "df_semver.to_csv(\n",
    "    '../data/releases.csv.gz', \n",
    "    index=False,\n",
    "    compression='gzip',\n",
    ")"
   ]
  }
 ],
 "metadata": {
  "kernelspec": {
   "display_name": "Python 3",
   "language": "python",
   "name": "python3"
  },
  "language_info": {
   "codemirror_mode": {
    "name": "ipython",
    "version": 3
   },
   "file_extension": ".py",
   "mimetype": "text/x-python",
   "name": "python",
   "nbconvert_exporter": "python",
   "pygments_lexer": "ipython3",
   "version": "3.5.3"
  }
 },
 "nbformat": 4,
 "nbformat_minor": 2
}
