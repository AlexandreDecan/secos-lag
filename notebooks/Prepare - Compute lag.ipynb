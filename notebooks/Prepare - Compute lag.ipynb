{
 "cells": [
  {
   "cell_type": "code",
   "execution_count": 1,
   "metadata": {},
   "outputs": [],
   "source": [
    "import pandas\n",
    "import sys\n",
    "import tqdm\n",
    "\n",
    "sys.path.append('..')\n",
    "from helpers import RE_SEMVER, semver"
   ]
  },
  {
   "cell_type": "code",
   "execution_count": 2,
   "metadata": {},
   "outputs": [],
   "source": [
    "df_releases = (\n",
    "    pandas.read_csv('../data/releases.csv.gz')\n",
    ")"
   ]
  },
  {
   "cell_type": "code",
   "execution_count": 83,
   "metadata": {},
   "outputs": [],
   "source": [
    "df_dependencies = (\n",
    "    pandas.read_csv('../data-raw/libio-dependencies.csv.gz')\n",
    ")"
   ]
  },
  {
   "cell_type": "code",
   "execution_count": 3,
   "metadata": {},
   "outputs": [],
   "source": [
    "def version_distance(base, target, releases):\n",
    "    \"\"\"\n",
    "    Compute the distance between `base` and `target` (release rank) \n",
    "    based on the number of patch, minor and major updates in between.\n",
    "    \n",
    "    We assume that `releases` (a subset of `df_releases`) is sorted by `RankByVersion`.\n",
    "    \"\"\"\n",
    "    major, minor, patch = 0, 0, 0\n",
    "    looking_for = 'Patch'\n",
    "    \n",
    "    for row in releases.itertuples():\n",
    "        if row.RankByVersion <= base:\n",
    "            continue\n",
    "        if row.RankByVersion > target:\n",
    "            break\n",
    "        \n",
    "        if looking_for == 'Patch': \n",
    "            if row.ReleaseType == 'Patch' or row.ReleaseType == 'Misc':\n",
    "                patch += 1\n",
    "            else:\n",
    "                looking_for = row.ReleaseType\n",
    "        if looking_for == 'Minor':\n",
    "            if row.ReleaseType == 'Minor':\n",
    "                minor += 1\n",
    "            elif row.ReleaseType == 'Major': \n",
    "                looking_for = 'Major'\n",
    "        if looking_for == 'Major' and row.ReleaseType == 'Major':\n",
    "            major += 1\n",
    "        \n",
    "    return (major, minor, patch)"
   ]
  },
  {
   "cell_type": "code",
   "execution_count": 41,
   "metadata": {},
   "outputs": [],
   "source": [
    "def compute_lags(releases, time, next_time, constraint):\n",
    "    \"\"\"\n",
    "    Compute lag at `time` and `next_time`, assuming that given `constraint`\n",
    "    should be evaluated wrt. to given set of package `releases` (a DataFrame that's a \n",
    "    subset of `df_releases`. \n",
    "    \n",
    "    Return an iterable with: \n",
    "     - highest release installable at `time`;\n",
    "     - highest release missed at `time`;\n",
    "     - oldest release missed at `time`;\n",
    "     - version lag at `time`;\n",
    "     - temporal lag at `time`;\n",
    "     - All the items above but at `next_time`.\n",
    "    \"\"\"\n",
    "    \n",
    "    releases= (\n",
    "        # Restrict releases to the ones that were available at next_time\n",
    "        releases[lambda d: d['ReleaseDate'] <= next_time]\n",
    "        .assign(\n",
    "            # Tag them depending on their availability at both times\n",
    "            AvailableAtTime=lambda d: d['ReleaseDate'] <= time,\n",
    "            AvailableAtNextTime=True,\n",
    "            # Tag the ones that are installable (ie. accepted by the constraint)\n",
    "            Installable=lambda d: d['Release'].isin(semver(constraint, d['Release']))\n",
    "        )\n",
    "    )\n",
    "    \n",
    "    results = []\n",
    "    \n",
    "    # Handle computation at two times points\n",
    "    for is_next in [False, True]:\n",
    "        available_label = 'AvailableAtTime' if not is_next else 'AvailableAtNextTime'\n",
    "        \n",
    "        # Find highest installable and annotate missed releases\n",
    "        try:\n",
    "            highest_installable = releases[lambda d: d['Installable'] & d[available_label]].iloc[-1]\n",
    "            releases['Missed'] = releases[available_label] & (releases['RankByVersion'] > highest_installable['RankByVersion'])\n",
    "            results.append(highest_installable['Release'])\n",
    "        except IndexError:\n",
    "            releases['Missed'] = releases[available_label]\n",
    "            results.append(None)\n",
    "            \n",
    "        # Find highest missed and oldest missed (required to compute version and temporal lags)    \n",
    "        try:\n",
    "            highest_missed = releases[lambda d: d['Missed']].iloc[-1]\n",
    "            first_missed = releases[lambda d: d['Missed']].sort_values('RankByDate').iloc[0]\n",
    "            version_lag = version_distance(\n",
    "                highest_installable['RankByVersion'], \n",
    "                highest_missed['RankByVersion'],\n",
    "                releases[lambda d: d[available_label]],\n",
    "            )\n",
    "            current_time = time if not is_next else next_time\n",
    "            temporal_lag = current_time - first_missed['ReleaseDate']\n",
    "            \n",
    "            results.append(highest_missed['Release'])\n",
    "            results.append(first_missed['Release'])\n",
    "            results.append(version_lag)\n",
    "            results.append(temporal_lag)\n",
    "        except IndexError: \n",
    "            results.append(None)\n",
    "            results.append(None)\n",
    "            results.append((0, 0, 0))\n",
    "            results.append(0)\n",
    "            \n",
    "    return results"
   ]
  },
  {
   "cell_type": "code",
   "execution_count": null,
   "metadata": {},
   "outputs": [],
   "source": [
    "# Proposed filters:\n",
    "# - Packages updated in 2017\n",
    "# - Packages having at least 2 updates\n",
    "\n",
    "# Results in 188.400 packages, 9.922.958 dependencies"
   ]
  }
 ],
 "metadata": {
  "kernelspec": {
   "display_name": "Python 3",
   "language": "python",
   "name": "python3"
  },
  "language_info": {
   "codemirror_mode": {
    "name": "ipython",
    "version": 3
   },
   "file_extension": ".py",
   "mimetype": "text/x-python",
   "name": "python",
   "nbconvert_exporter": "python",
   "pygments_lexer": "ipython3",
   "version": "3.5.3"
  }
 },
 "nbformat": 4,
 "nbformat_minor": 2
}
