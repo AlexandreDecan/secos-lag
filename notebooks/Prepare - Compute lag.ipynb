{
 "cells": [
  {
   "cell_type": "code",
   "execution_count": 1,
   "metadata": {},
   "outputs": [],
   "source": [
    "import pandas\n",
    "import sys\n",
    "import tqdm\n",
    "\n",
    "sys.path.append('..')\n",
    "from helpers import RE_SEMVER, semver"
   ]
  },
  {
   "cell_type": "code",
   "execution_count": 2,
   "metadata": {},
   "outputs": [],
   "source": [
    "df_releases = (\n",
    "    pandas.read_csv('../data/releases.csv.gz')\n",
    ")\n",
    "\n",
    "df_dependencies = (\n",
    "    pandas.read_csv('../data-raw/libio-dependencies.csv.gz')\n",
    ")"
   ]
  },
  {
   "cell_type": "code",
   "execution_count": 25,
   "metadata": {},
   "outputs": [],
   "source": [
    "def version_distance(base, target, releases):\n",
    "    \"\"\"\n",
    "    Compute the distance between `base` and `target` (release rank) \n",
    "    based on the number of patch, minor and major updates in between.\n",
    "    \n",
    "    We assume that `releases` (a subset of `df_releases`) is sorted by `RankByVersion`.\n",
    "    \"\"\"\n",
    "    major, minor, patch = 0, 0, 0\n",
    "    looking_for = 'Patch'\n",
    "    \n",
    "    for row in releases.itertuples():\n",
    "        if row.RankByVersion <= base:\n",
    "            continue\n",
    "        if row.RankByVersion > target:\n",
    "            break\n",
    "        \n",
    "        if looking_for == 'Patch': \n",
    "            if row.ReleaseType == 'Patch' or row.ReleaseType == 'Misc':\n",
    "                patch += 1\n",
    "            else:\n",
    "                looking_for = row.ReleaseType\n",
    "        if looking_for == 'Minor':\n",
    "            if row.ReleaseType == 'Minor':\n",
    "                minor += 1\n",
    "            elif row.ReleaseType == 'Major': \n",
    "                looking_for = 'Major'\n",
    "        if looking_for == 'Major' and row.ReleaseType == 'Major':\n",
    "            major += 1\n",
    "        \n",
    "    return (major, minor, patch)"
   ]
  },
  {
   "cell_type": "code",
   "execution_count": null,
   "metadata": {},
   "outputs": [],
   "source": [
    "def compute_lags(releases, time, next_time, constraint):\n",
    "    \"\"\"\n",
    "    Compute lag at `time` and `next_time`, assuming that given `constraint`\n",
    "    should be evaluated wrt. to given set of package `releases` (a DataFrame that's a \n",
    "    subset of `df_releases`. \n",
    "    \n",
    "    Return an iterable with: \n",
    "     - highest release installable at `time`;\n",
    "     - oldest release missed at `time`;\n",
    "     - highest release missed at `time`;\n",
    "     - version lag at `time`;\n",
    "     - temporal lag at `time`;\n",
    "     - All the items above but at `next_time`.\n",
    "    \"\"\"\n",
    "    \n",
    "    releases= (\n",
    "        # Restrict releases to the ones that were available at next_time\n",
    "        releases[lambda d: d['ReleaseDate'] <= next_time]\n",
    "        .assign(\n",
    "            # Tag them depending on their availability at both times\n",
    "            AvailableAtTime=lambda d: d['ReleaseDate'] <= time,\n",
    "            AvailableAtNextTime=True,\n",
    "            # Tag the ones that are installable (ie. accepted by the constraint)\n",
    "            Installable=lambda d: d['Release'].isin(semver(constraint, d['Release']))\n",
    "        )\n",
    "    )\n",
    "    \n",
    "    # CARE WITH:\n",
    "    #  - None available\n",
    "    #  - None installable\n",
    "    #  - None missed\n",
    "    #  - ... ???\n",
    "    \n",
    "    # Identify missed ones at both times\n",
    "    \n",
    "    \n",
    "    highest_installable_at_time = None\n",
    "    highest_missed_at_time = None\n",
    "    first_missed_at_time = None\n",
    "    version_lag_at_time = None\n",
    "    temporal_lag_at_time = None\n",
    "    \n",
    "    return"
   ]
  }
 ],
 "metadata": {
  "kernelspec": {
   "display_name": "Python 3",
   "language": "python",
   "name": "python3"
  },
  "language_info": {
   "codemirror_mode": {
    "name": "ipython",
    "version": 3
   },
   "file_extension": ".py",
   "mimetype": "text/x-python",
   "name": "python",
   "nbconvert_exporter": "python",
   "pygments_lexer": "ipython3",
   "version": "3.5.3"
  }
 },
 "nbformat": 4,
 "nbformat_minor": 2
}
