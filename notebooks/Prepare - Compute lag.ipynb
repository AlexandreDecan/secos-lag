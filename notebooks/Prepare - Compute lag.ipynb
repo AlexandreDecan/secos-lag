{
 "cells": [
  {
   "cell_type": "code",
   "execution_count": 2,
   "metadata": {},
   "outputs": [],
   "source": [
    "import pandas\n",
    "import sys\n",
    "import tqdm\n",
    "\n",
    "sys.path.append('..')\n",
    "from helpers import RE_SEMVER, semver\n",
    "from lag import version_distance, compute_lags"
   ]
  },
  {
   "cell_type": "code",
   "execution_count": 2,
   "metadata": {},
   "outputs": [],
   "source": [
    "df_releases = (\n",
    "    pandas.read_csv('../data/releases.csv.gz')\n",
    ")"
   ]
  },
  {
   "cell_type": "code",
   "execution_count": 7,
   "metadata": {},
   "outputs": [
    {
     "name": "stdout",
     "output_type": "stream",
     "text": [
      "47\n"
     ]
    }
   ],
   "source": [
    "d = df_releases.set_index('Package').loc['commander'].assign(ReleaseDate=lambda d: pandas.to_datetime(d['ReleaseDate']))\n",
    "print(len(d))"
   ]
  },
  {
   "cell_type": "code",
   "execution_count": 8,
   "metadata": {},
   "outputs": [
    {
     "data": {
      "text/plain": [
       "[('0.6.1', '2.0.0', '1.0.0', (2, 0, 0), Timedelta('393 days 01:31:46')),\n",
       " ('0.6.1', '2.0.0', '1.0.0', (2, 0, 0), Timedelta('393 days 06:56:18'))]"
      ]
     },
     "execution_count": 8,
     "metadata": {},
     "output_type": "execute_result"
    }
   ],
   "source": [
    "compute_lags(d,\n",
    "            pandas.to_datetime('2013-08-02 17:11:33'), \n",
    "            pandas.to_datetime('2013-08-02 22:36:05'), \n",
    "            '0.6.1'\n",
    ")\n",
    "# alloy,1.2.0-alpha4,commander,0.6.1,2013-08-02 17:11:33,0.6.1,2.0.0,1.0.0,\"(2, 0, 0)\",393 days 01:31:46,2013-08-02 22:36:05,0.6.1,2.0.0,1.0.0,\"(2, 0, 0)\",393 days 06:56:18"
   ]
  },
  {
   "cell_type": "code",
   "execution_count": null,
   "metadata": {},
   "outputs": [],
   "source": [
    "# Proposed filters:\n",
    "# - Packages updated in 2017\n",
    "# - Packages having at least 2 updates\n",
    "\n",
    "# Results in 188.400 packages, 9.922.958 dependencies\n",
    "\n",
    "# DF: Package Release Dependency Constraint T HI_T HM_T OM_T VL_T TL_T NT HI_NT HM_NT OM_NT VL_NT TL_NT"
   ]
  }
 ],
 "metadata": {
  "kernelspec": {
   "display_name": "Python 3",
   "language": "python",
   "name": "python3"
  },
  "language_info": {
   "codemirror_mode": {
    "name": "ipython",
    "version": 3
   },
   "file_extension": ".py",
   "mimetype": "text/x-python",
   "name": "python",
   "nbconvert_exporter": "python",
   "pygments_lexer": "ipython3",
   "version": "3.5.3"
  }
 },
 "nbformat": 4,
 "nbformat_minor": 2
}
